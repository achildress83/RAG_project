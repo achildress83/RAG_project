{
 "cells": [
  {
   "cell_type": "markdown",
   "metadata": {},
   "source": [
    "# arXiv RAG"
   ]
  },
  {
   "cell_type": "code",
   "execution_count": 1,
   "metadata": {},
   "outputs": [],
   "source": [
    "# import libraries\n",
    "from utils import Utils, Preprocess, Inspect, FileSelector, QueryInterface\n",
    "from unstructured_client import UnstructuredClient\n",
    "# from unstructured.staging.base import dict_to_elements\n",
    "from llama_index.core import VectorStoreIndex, ServiceContext\n",
    "from llama_index.llms import openai\n",
    "\n",
    "import logging\n",
    "logging.basicConfig(level=logging.ERROR)\n",
    "# Disable OpenAI and httpx logging\n",
    "# Configure logging level for specific loggers by name\n",
    "logging.getLogger(\"openai\").setLevel(logging.ERROR)\n",
    "logging.getLogger(\"httpx\").setLevel(logging.ERROR)\n",
    "\n",
    "# instantiate Utils class\n",
    "utils = Utils()\n",
    "\n",
    "# instantiate File Selector class\n",
    "s = FileSelector()"
   ]
  },
  {
   "cell_type": "markdown",
   "metadata": {},
   "source": [
    "## PDF Selection UI"
   ]
  },
  {
   "cell_type": "code",
   "execution_count": 2,
   "metadata": {},
   "outputs": [
    {
     "data": {
      "application/vnd.jupyter.widget-view+json": {
       "model_id": "6ede51bbebf744f0b8ac986ae285e6b7",
       "version_major": 2,
       "version_minor": 0
      },
      "text/plain": [
       "Dropdown(description='Select PDF:', options=('rtx_paper.pdf',), value='rtx_paper.pdf')"
      ]
     },
     "metadata": {},
     "output_type": "display_data"
    },
    {
     "data": {
      "application/vnd.jupyter.widget-view+json": {
       "model_id": "adf62a80b6c74dfc9e0e868921195eaf",
       "version_major": 2,
       "version_minor": 0
      },
      "text/plain": [
       "Dropdown(description='Parse?', options=(('Yes', 1), ('No', 0)), value=1)"
      ]
     },
     "metadata": {},
     "output_type": "display_data"
    },
    {
     "data": {
      "application/vnd.jupyter.widget-view+json": {
       "model_id": "04612f336d114c69b3c62431fd32570f",
       "version_major": 2,
       "version_minor": 0
      },
      "text/plain": [
       "Button(description='Execute', style=ButtonStyle())"
      ]
     },
     "metadata": {},
     "output_type": "display_data"
    },
    {
     "data": {
      "application/vnd.jupyter.widget-view+json": {
       "model_id": "49a6932b2e2e47a8ba710de2cb63d7ae",
       "version_major": 2,
       "version_minor": 0
      },
      "text/plain": [
       "Output()"
      ]
     },
     "metadata": {},
     "output_type": "display_data"
    }
   ],
   "source": [
    "\n",
    "# select PDF to parse\n",
    "result = s.get_file()\n",
    "\n",
    "# unpack filename and prefix from result\n",
    "filename, file_prefix = result\n",
    "\n",
    "# instantiate Preprocess class with file path\n",
    "doc = Preprocess(filename)\n",
    "\n"
   ]
  },
  {
   "cell_type": "markdown",
   "metadata": {},
   "source": [
    "## Preprocessing Pipeline\n"
   ]
  },
  {
   "cell_type": "code",
   "execution_count": 3,
   "metadata": {},
   "outputs": [],
   "source": [
    "\n",
    "# RUN THIS CELL TO MAKE FUNCTIONS AVAILABLE\n",
    "\n",
    "\n",
    "def parse_file(doc: object) -> tuple[list[dict], list[object]]:\n",
    "    # read in the file\n",
    "    files = doc.read_file()\n",
    "\n",
    "    # build request (instruct the API on how to parse the file)\n",
    "    req = doc.partition_file(files, strategy='hi_res', model_name='yolox')\n",
    "\n",
    "    # store the parsed file as records (list of dictionaries) and Elements (object)\n",
    "    records, elements = doc.get_structured_text(client, req)\n",
    "\n",
    "    return records, elements\n",
    "    \n",
    "def filter_and_add_metadata(doc: object, records: list[dict], elements: list[object]) -> list[dict]:\n",
    "    # instantiate Inspect class with records and elements\n",
    "    inspector = Inspect(records, elements)\n",
    "    \n",
    "    # get header and reference ids to filter from pdf_elements\n",
    "    header_id, references_id = inspector.get_references_and_header_id(records)\n",
    "\n",
    "    # remove child elements from the references and header section\n",
    "    pdf_data = [el for el in elements if el.metadata.parent_id not in (references_id, header_id)]\n",
    "\n",
    "    # get dictionary of all Title elements with unique IDs\n",
    "    section_ids = inspector.get_section_id_dict()\n",
    "\n",
    "    # 1. convert elements to records, 2. add section title to metadata\n",
    "    pdf_data = doc.add_parent_to_metadata(pdf_data, section_ids)\n",
    "\n",
    "    # remove references and header parent elements\n",
    "    pdf_data = [record for record in pdf_data if record['element_id'] not in (references_id, header_id)]\n",
    "\n",
    "    # save records as JSON\n",
    "    json_name = file_prefix + '.json'\n",
    "    utils.save_json_line_by_line(json_name, pdf_data)\n",
    "    \n",
    "    return pdf_data\n",
    "\n",
    "def preprocess_pipeline(doc: object) -> list[dict]:\n",
    "    '''\n",
    "    Turns unstructured PDF data into semi-structured records with metadata \n",
    "    Args:\n",
    "        doc: instantiation on preprocess class\n",
    "    Returns:\n",
    "        records with metadata for chunking\n",
    "    '''\n",
    "    records, elements = parse_file(doc)\n",
    "    \n",
    "    data = filter_and_add_metadata(doc, records, elements)\n",
    "    \n",
    "    return data"
   ]
  },
  {
   "cell_type": "markdown",
   "metadata": {},
   "source": [
    "## Build Query Interface"
   ]
  },
  {
   "cell_type": "code",
   "execution_count": 4,
   "metadata": {},
   "outputs": [
    {
     "name": "stdout",
     "output_type": "stream",
     "text": [
      "Header ID not found.\n",
      "Data saved successfully to rtx_paper.json\n"
     ]
    },
    {
     "name": "stderr",
     "output_type": "stream",
     "text": [
      "/tmp/ipykernel_48857/1650435990.py:20: DeprecationWarning: Call to deprecated class method from_defaults. (ServiceContext is deprecated, please use `llama_index.settings.Settings` instead.) -- Deprecated since version 0.10.0.\n",
      "  service_context = ServiceContext.from_defaults(llm=llm, embed_model='local:BAAI/bge-small-en-v1.5')\n",
      "/home/codespace/.python/current/lib/python3.10/site-packages/huggingface_hub/file_download.py:1132: FutureWarning: `resume_download` is deprecated and will be removed in version 1.0.0. Downloads always resume when possible. If you want to force a new download, use `force_download=True`.\n",
      "  warnings.warn(\n"
     ]
    },
    {
     "data": {
      "application/vnd.jupyter.widget-view+json": {
       "model_id": "2ff6a641b89c4f98b70fe7cce3aef584",
       "version_major": 2,
       "version_minor": 0
      },
      "text/plain": [
       "Text(value='', description='Query:', layout=Layout(width='100%'), placeholder='Enter your query')"
      ]
     },
     "metadata": {},
     "output_type": "display_data"
    },
    {
     "data": {
      "application/vnd.jupyter.widget-view+json": {
       "model_id": "25a47e8fe7b8458d90e06b805fc4a6df",
       "version_major": 2,
       "version_minor": 0
      },
      "text/plain": [
       "Button(description='Submit', icon='check', style=ButtonStyle(), tooltip='Click to submit query')"
      ]
     },
     "metadata": {},
     "output_type": "display_data"
    },
    {
     "data": {
      "application/vnd.jupyter.widget-view+json": {
       "model_id": "7b551b0bb787451a87890afb79f606cb",
       "version_major": 2,
       "version_minor": 0
      },
      "text/plain": [
       "Output()"
      ]
     },
     "metadata": {},
     "output_type": "display_data"
    }
   ],
   "source": [
    "\n",
    "# THIS CODE RUNS PREPROCESSING, INDEXES DOCUMENT, AND BUILDS QUERY INTERFACE \n",
    "\n",
    "# if prefix = None, skip preprocessing because json exists, else preprocess\n",
    "if file_prefix is not None:\n",
    "    # implement preprocessing pipeline\n",
    "    UNSTRUCTURED_API_KEY = utils.get_api_key(\"UNSTRUCTURED\")\n",
    "    client = UnstructuredClient(api_key_auth=UNSTRUCTURED_API_KEY)\n",
    "    \n",
    "    data = preprocess_pipeline(doc)\n",
    "    \n",
    "else:\n",
    "    # load existing json \n",
    "    data = utils.load_json_line_by_line(filename)\n",
    "    \n",
    "# convert json to Document object (chunk and join text into one document) \n",
    "document = doc.json_to_doc(data)\n",
    "\n",
    "# define a service context that contains both the llm and the embedding model\n",
    "llm = openai.OpenAI(model='gpt-3.5-turbo', temperature=0.1)\n",
    "service_context = ServiceContext.from_defaults(llm=llm, embed_model='local:BAAI/bge-small-en-v1.5')\n",
    "index = VectorStoreIndex.from_documents([document], service_context=service_context)\n",
    "\n",
    "# setup query engine\n",
    "query_engine = index.as_query_engine()\n",
    "\n",
    "# launch UI\n",
    "query_interface = QueryInterface(query_engine)\n",
    "query_interface.display()"
   ]
  },
  {
   "cell_type": "code",
   "execution_count": null,
   "metadata": {},
   "outputs": [],
   "source": []
  }
 ],
 "metadata": {
  "kernelspec": {
   "display_name": "base",
   "language": "python",
   "name": "python3"
  },
  "language_info": {
   "codemirror_mode": {
    "name": "ipython",
    "version": 3
   },
   "file_extension": ".py",
   "mimetype": "text/x-python",
   "name": "python",
   "nbconvert_exporter": "python",
   "pygments_lexer": "ipython3",
   "version": "3.10.13"
  }
 },
 "nbformat": 4,
 "nbformat_minor": 2
}
